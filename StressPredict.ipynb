{
 "cells": [
  {
   "cell_type": "code",
   "execution_count": 1,
   "metadata": {},
   "outputs": [],
   "source": [
    "import pandas as pd\n",
    "import numpy as np\n",
    "from sklearn.model_selection import train_test_split\n",
    "import  copy\n",
    "from sklearn.linear_model import LogisticRegression\n",
    "from sklearn.metrics import classification_report\n",
    "from sklearn.tree import DecisionTreeClassifier\n",
    "from sklearn import metrics\n",
    "from sklearn.ensemble import RandomForestClassifier\n",
    "import matplotlib.pyplot as plt\n",
    "from sklearn.metrics import ConfusionMatrixDisplay, confusion_matrix\n",
    "from datetime import datetime, timezone\n",
    "from sklearn.preprocessing import StandardScaler\n",
    "from sklearn.preprocessing import MinMaxScaler"
   ]
  },
  {
   "cell_type": "code",
   "execution_count": 4,
   "metadata": {},
   "outputs": [],
   "source": [
    "file_path = \"./dataset/Data.csv\"\n",
    "df = pd.read_csv(file_path)"
   ]
  },
  {
   "cell_type": "code",
   "execution_count": 7,
   "metadata": {},
   "outputs": [
    {
     "data": {
      "text/plain": [
       "(112516, 5)"
      ]
     },
     "execution_count": 7,
     "metadata": {},
     "output_type": "execute_result"
    }
   ],
   "source": [
    "df.shape"
   ]
  },
  {
   "cell_type": "code",
   "execution_count": 8,
   "metadata": {},
   "outputs": [
    {
     "data": {
      "text/html": [
       "<div>\n",
       "<style scoped>\n",
       "    .dataframe tbody tr th:only-of-type {\n",
       "        vertical-align: middle;\n",
       "    }\n",
       "\n",
       "    .dataframe tbody tr th {\n",
       "        vertical-align: top;\n",
       "    }\n",
       "\n",
       "    .dataframe thead th {\n",
       "        text-align: right;\n",
       "    }\n",
       "</style>\n",
       "<table border=\"1\" class=\"dataframe\">\n",
       "  <thead>\n",
       "    <tr style=\"text-align: right;\">\n",
       "      <th></th>\n",
       "      <th>Participant</th>\n",
       "      <th>HR</th>\n",
       "      <th>respr</th>\n",
       "      <th>Time(sec)</th>\n",
       "      <th>Label</th>\n",
       "    </tr>\n",
       "  </thead>\n",
       "  <tbody>\n",
       "    <tr>\n",
       "      <th>count</th>\n",
       "      <td>112516.000000</td>\n",
       "      <td>112472.000000</td>\n",
       "      <td>112516.000000</td>\n",
       "      <td>1.125160e+05</td>\n",
       "      <td>112516.000000</td>\n",
       "    </tr>\n",
       "    <tr>\n",
       "      <th>mean</th>\n",
       "      <td>18.475470</td>\n",
       "      <td>80.216177</td>\n",
       "      <td>12.465482</td>\n",
       "      <td>1.645692e+09</td>\n",
       "      <td>0.327198</td>\n",
       "    </tr>\n",
       "    <tr>\n",
       "      <th>std</th>\n",
       "      <td>9.871133</td>\n",
       "      <td>12.732206</td>\n",
       "      <td>2.030810</td>\n",
       "      <td>8.179419e+05</td>\n",
       "      <td>0.469192</td>\n",
       "    </tr>\n",
       "    <tr>\n",
       "      <th>min</th>\n",
       "      <td>2.000000</td>\n",
       "      <td>49.000000</td>\n",
       "      <td>5.204728</td>\n",
       "      <td>1.644228e+09</td>\n",
       "      <td>0.000000</td>\n",
       "    </tr>\n",
       "    <tr>\n",
       "      <th>25%</th>\n",
       "      <td>10.000000</td>\n",
       "      <td>71.330000</td>\n",
       "      <td>11.191843</td>\n",
       "      <td>1.644846e+09</td>\n",
       "      <td>0.000000</td>\n",
       "    </tr>\n",
       "    <tr>\n",
       "      <th>50%</th>\n",
       "      <td>18.000000</td>\n",
       "      <td>77.890000</td>\n",
       "      <td>12.743635</td>\n",
       "      <td>1.645461e+09</td>\n",
       "      <td>0.000000</td>\n",
       "    </tr>\n",
       "    <tr>\n",
       "      <th>75%</th>\n",
       "      <td>27.000000</td>\n",
       "      <td>87.020000</td>\n",
       "      <td>13.877519</td>\n",
       "      <td>1.646648e+09</td>\n",
       "      <td>1.000000</td>\n",
       "    </tr>\n",
       "    <tr>\n",
       "      <th>max</th>\n",
       "      <td>35.000000</td>\n",
       "      <td>146.780000</td>\n",
       "      <td>18.163532</td>\n",
       "      <td>1.646842e+09</td>\n",
       "      <td>1.000000</td>\n",
       "    </tr>\n",
       "  </tbody>\n",
       "</table>\n",
       "</div>"
      ],
      "text/plain": [
       "         Participant             HR          respr     Time(sec)  \\\n",
       "count  112516.000000  112472.000000  112516.000000  1.125160e+05   \n",
       "mean       18.475470      80.216177      12.465482  1.645692e+09   \n",
       "std         9.871133      12.732206       2.030810  8.179419e+05   \n",
       "min         2.000000      49.000000       5.204728  1.644228e+09   \n",
       "25%        10.000000      71.330000      11.191843  1.644846e+09   \n",
       "50%        18.000000      77.890000      12.743635  1.645461e+09   \n",
       "75%        27.000000      87.020000      13.877519  1.646648e+09   \n",
       "max        35.000000     146.780000      18.163532  1.646842e+09   \n",
       "\n",
       "               Label  \n",
       "count  112516.000000  \n",
       "mean        0.327198  \n",
       "std         0.469192  \n",
       "min         0.000000  \n",
       "25%         0.000000  \n",
       "50%         0.000000  \n",
       "75%         1.000000  \n",
       "max         1.000000  "
      ]
     },
     "execution_count": 8,
     "metadata": {},
     "output_type": "execute_result"
    }
   ],
   "source": [
    "df.describe()"
   ]
  },
  {
   "cell_type": "code",
   "execution_count": 9,
   "metadata": {},
   "outputs": [
    {
     "name": "stdout",
     "output_type": "stream",
     "text": [
      "<class 'pandas.core.frame.DataFrame'>\n",
      "RangeIndex: 112516 entries, 0 to 112515\n",
      "Data columns (total 5 columns):\n",
      " #   Column       Non-Null Count   Dtype  \n",
      "---  ------       --------------   -----  \n",
      " 0   Participant  112516 non-null  int64  \n",
      " 1   HR           112472 non-null  float64\n",
      " 2   respr        112516 non-null  float64\n",
      " 3   Time(sec)    112516 non-null  int64  \n",
      " 4   Label        112516 non-null  int64  \n",
      "dtypes: float64(2), int64(3)\n",
      "memory usage: 4.3 MB\n"
     ]
    }
   ],
   "source": [
    "df.info()"
   ]
  },
  {
   "cell_type": "code",
   "execution_count": 10,
   "metadata": {},
   "outputs": [
    {
     "data": {
      "text/plain": [
       "Participant     0\n",
       "HR             44\n",
       "respr           0\n",
       "Time(sec)       0\n",
       "Label           0\n",
       "dtype: int64"
      ]
     },
     "execution_count": 10,
     "metadata": {},
     "output_type": "execute_result"
    }
   ],
   "source": [
    "df.isnull().sum()"
   ]
  },
  {
   "cell_type": "code",
   "execution_count": 11,
   "metadata": {},
   "outputs": [
    {
     "name": "stdout",
     "output_type": "stream",
     "text": [
      "Label\n",
      "0    75701\n",
      "1    36815\n",
      "Name: count, dtype: int64\n"
     ]
    }
   ],
   "source": [
    "class_distribution = df['Label'].value_counts()\n",
    "print(class_distribution)"
   ]
  },
  {
   "cell_type": "code",
   "execution_count": null,
   "metadata": {},
   "outputs": [],
   "source": [
    "df['HR'].fillna(df['HR'].mean(), inplace=True)"
   ]
  },
  {
   "cell_type": "code",
   "execution_count": 13,
   "metadata": {},
   "outputs": [
    {
     "data": {
      "text/plain": [
       "Participant    0\n",
       "HR             0\n",
       "respr          0\n",
       "Time(sec)      0\n",
       "Label          0\n",
       "dtype: int64"
      ]
     },
     "execution_count": 13,
     "metadata": {},
     "output_type": "execute_result"
    }
   ],
   "source": [
    "df.isnull().sum()"
   ]
  },
  {
   "cell_type": "code",
   "execution_count": 14,
   "metadata": {},
   "outputs": [
    {
     "data": {
      "text/html": [
       "<div>\n",
       "<style scoped>\n",
       "    .dataframe tbody tr th:only-of-type {\n",
       "        vertical-align: middle;\n",
       "    }\n",
       "\n",
       "    .dataframe tbody tr th {\n",
       "        vertical-align: top;\n",
       "    }\n",
       "\n",
       "    .dataframe thead th {\n",
       "        text-align: right;\n",
       "    }\n",
       "</style>\n",
       "<table border=\"1\" class=\"dataframe\">\n",
       "  <thead>\n",
       "    <tr style=\"text-align: right;\">\n",
       "      <th></th>\n",
       "      <th>Participant</th>\n",
       "      <th>HR</th>\n",
       "      <th>respr</th>\n",
       "      <th>Time(sec)</th>\n",
       "      <th>Label</th>\n",
       "    </tr>\n",
       "  </thead>\n",
       "  <tbody>\n",
       "    <tr>\n",
       "      <th>count</th>\n",
       "      <td>112516.000000</td>\n",
       "      <td>112516.000000</td>\n",
       "      <td>112516.000000</td>\n",
       "      <td>1.125160e+05</td>\n",
       "      <td>112516.000000</td>\n",
       "    </tr>\n",
       "    <tr>\n",
       "      <th>mean</th>\n",
       "      <td>18.475470</td>\n",
       "      <td>80.216177</td>\n",
       "      <td>12.465482</td>\n",
       "      <td>1.645692e+09</td>\n",
       "      <td>0.327198</td>\n",
       "    </tr>\n",
       "    <tr>\n",
       "      <th>std</th>\n",
       "      <td>9.871133</td>\n",
       "      <td>12.729716</td>\n",
       "      <td>2.030810</td>\n",
       "      <td>8.179419e+05</td>\n",
       "      <td>0.469192</td>\n",
       "    </tr>\n",
       "    <tr>\n",
       "      <th>min</th>\n",
       "      <td>2.000000</td>\n",
       "      <td>49.000000</td>\n",
       "      <td>5.204728</td>\n",
       "      <td>1.644228e+09</td>\n",
       "      <td>0.000000</td>\n",
       "    </tr>\n",
       "    <tr>\n",
       "      <th>25%</th>\n",
       "      <td>10.000000</td>\n",
       "      <td>71.330000</td>\n",
       "      <td>11.191843</td>\n",
       "      <td>1.644846e+09</td>\n",
       "      <td>0.000000</td>\n",
       "    </tr>\n",
       "    <tr>\n",
       "      <th>50%</th>\n",
       "      <td>18.000000</td>\n",
       "      <td>77.900000</td>\n",
       "      <td>12.743635</td>\n",
       "      <td>1.645461e+09</td>\n",
       "      <td>0.000000</td>\n",
       "    </tr>\n",
       "    <tr>\n",
       "      <th>75%</th>\n",
       "      <td>27.000000</td>\n",
       "      <td>87.020000</td>\n",
       "      <td>13.877519</td>\n",
       "      <td>1.646648e+09</td>\n",
       "      <td>1.000000</td>\n",
       "    </tr>\n",
       "    <tr>\n",
       "      <th>max</th>\n",
       "      <td>35.000000</td>\n",
       "      <td>146.780000</td>\n",
       "      <td>18.163532</td>\n",
       "      <td>1.646842e+09</td>\n",
       "      <td>1.000000</td>\n",
       "    </tr>\n",
       "  </tbody>\n",
       "</table>\n",
       "</div>"
      ],
      "text/plain": [
       "         Participant             HR          respr     Time(sec)  \\\n",
       "count  112516.000000  112516.000000  112516.000000  1.125160e+05   \n",
       "mean       18.475470      80.216177      12.465482  1.645692e+09   \n",
       "std         9.871133      12.729716       2.030810  8.179419e+05   \n",
       "min         2.000000      49.000000       5.204728  1.644228e+09   \n",
       "25%        10.000000      71.330000      11.191843  1.644846e+09   \n",
       "50%        18.000000      77.900000      12.743635  1.645461e+09   \n",
       "75%        27.000000      87.020000      13.877519  1.646648e+09   \n",
       "max        35.000000     146.780000      18.163532  1.646842e+09   \n",
       "\n",
       "               Label  \n",
       "count  112516.000000  \n",
       "mean        0.327198  \n",
       "std         0.469192  \n",
       "min         0.000000  \n",
       "25%         0.000000  \n",
       "50%         0.000000  \n",
       "75%         1.000000  \n",
       "max         1.000000  "
      ]
     },
     "execution_count": 14,
     "metadata": {},
     "output_type": "execute_result"
    }
   ],
   "source": [
    "df.describe()"
   ]
  },
  {
   "cell_type": "code",
   "execution_count": 15,
   "metadata": {},
   "outputs": [],
   "source": [
    "df_norm = copy.deepcopy(df)"
   ]
  },
  {
   "cell_type": "code",
   "execution_count": 16,
   "metadata": {},
   "outputs": [],
   "source": [
    "train_data,test_data= train_test_split(df, test_size=0.02, random_state=42)"
   ]
  },
  {
   "cell_type": "code",
   "execution_count": 17,
   "metadata": {},
   "outputs": [
    {
     "data": {
      "text/plain": [
       "Participant  HR      respr      Time(sec)   Label\n",
       "2            58.22   15.063808  1644231091  0        1\n",
       "24           73.57   14.517080  1646061654  0        1\n",
       "                     12.515570  1646059540  0        1\n",
       "                     12.510317  1646059541  0        1\n",
       "             73.55   15.118393  1646060170  1        1\n",
       "                                                    ..\n",
       "13           69.07   14.221354  1645445519  0        1\n",
       "                     14.208554  1645445520  0        1\n",
       "                     13.979188  1645445499  0        1\n",
       "             69.05   14.933047  1645445705  0        1\n",
       "35           116.23  10.186199  1646840699  0        1\n",
       "Name: count, Length: 110265, dtype: int64"
      ]
     },
     "execution_count": 17,
     "metadata": {},
     "output_type": "execute_result"
    }
   ],
   "source": [
    "train_data.value_counts()"
   ]
  },
  {
   "cell_type": "code",
   "execution_count": 18,
   "metadata": {},
   "outputs": [
    {
     "data": {
      "text/plain": [
       "Participant  HR      respr      Time(sec)   Label\n",
       "2            58.23   15.115008  1644231092  0        1\n",
       "24           70.35   13.443256  1646060629  1        1\n",
       "             69.33   13.592343  1646060574  1        1\n",
       "             69.38   14.260518  1646059273  0        1\n",
       "             69.40   14.587400  1646060318  0        1\n",
       "                                                    ..\n",
       "13           66.78   14.974098  1645445722  0        1\n",
       "             66.75   17.617993  1645442834  0        1\n",
       "             66.55   13.195008  1645445416  0        1\n",
       "             66.45   13.188027  1645445410  0        1\n",
       "35           106.37  10.331690  1646840676  0        1\n",
       "Name: count, Length: 2251, dtype: int64"
      ]
     },
     "execution_count": 18,
     "metadata": {},
     "output_type": "execute_result"
    }
   ],
   "source": [
    "test_data.value_counts()"
   ]
  },
  {
   "cell_type": "code",
   "execution_count": 19,
   "metadata": {},
   "outputs": [],
   "source": [
    "feature_lst =['HR','respr','Time(sec)']\n",
    "target = [\"Label\"]\n",
    "target_names = ['not stressed', 'stressed']"
   ]
  },
  {
   "cell_type": "code",
   "execution_count": 20,
   "metadata": {},
   "outputs": [],
   "source": [
    "X_train, y_train, X_test, y_test = train_data[feature_lst], train_data[target], test_data[feature_lst], test_data[target]"
   ]
  },
  {
   "cell_type": "markdown",
   "metadata": {},
   "source": [
    "### Without applying normalization\n",
    "* initiate decision tree algo\n",
    "* train decisiontree classifier\n",
    "* predict the data for test data set"
   ]
  },
  {
   "cell_type": "code",
   "execution_count": 21,
   "metadata": {},
   "outputs": [],
   "source": [
    "\n",
    "dt = DecisionTreeClassifier()\n",
    "\n",
    "dt.fit(X_train,y_train)\n",
    "\n",
    "y_dt_pred = dt.predict(X_test)"
   ]
  },
  {
   "cell_type": "code",
   "execution_count": 22,
   "metadata": {},
   "outputs": [],
   "source": [
    "y_pred_train_dt = dt.predict(X_train)"
   ]
  },
  {
   "cell_type": "code",
   "execution_count": 23,
   "metadata": {},
   "outputs": [
    {
     "name": "stdout",
     "output_type": "stream",
     "text": [
      "DecisionTree Classification Report: \n",
      "               precision    recall  f1-score   support\n",
      "\n",
      "not stressed       0.99      0.99      0.99      1516\n",
      "    stressed       0.98      0.97      0.97       735\n",
      "\n",
      "    accuracy                           0.98      2251\n",
      "   macro avg       0.98      0.98      0.98      2251\n",
      "weighted avg       0.98      0.98      0.98      2251\n",
      "\n"
     ]
    }
   ],
   "source": [
    "clf_dt = classification_report(y_test, y_dt_pred,target_names=target_names)\n",
    "print(\"DecisionTree Classification Report: \")\n",
    "print(\"\",clf_dt)"
   ]
  },
  {
   "cell_type": "markdown",
   "metadata": {},
   "source": [
    "### Classification report for DecisionTree: Train Data\n",
    "Evaluate accuracy, precision, recall, and F1-score"
   ]
  },
  {
   "cell_type": "code",
   "execution_count": 24,
   "metadata": {},
   "outputs": [
    {
     "name": "stdout",
     "output_type": "stream",
     "text": [
      "DecisionTree Train Data Classification Report: \n",
      "               precision    recall  f1-score   support\n",
      "\n",
      "not stressed       1.00      1.00      1.00     74185\n",
      "    stressed       1.00      1.00      1.00     36080\n",
      "\n",
      "    accuracy                           1.00    110265\n",
      "   macro avg       1.00      1.00      1.00    110265\n",
      "weighted avg       1.00      1.00      1.00    110265\n",
      "\n"
     ]
    }
   ],
   "source": [
    "clf_train_dt = classification_report(y_train, y_pred_train_dt,target_names=target_names)\n",
    "print(\"DecisionTree Train Data Classification Report: \")\n",
    "print(\"\",clf_train_dt)"
   ]
  },
  {
   "cell_type": "markdown",
   "metadata": {},
   "source": [
    "### Confusion Matrix(DecisionTree)\n",
    "1=Positive (stressed)\n",
    "0=Negative (not stressed)"
   ]
  },
  {
   "cell_type": "code",
   "execution_count": 25,
   "metadata": {},
   "outputs": [
    {
     "name": "stdout",
     "output_type": "stream",
     "text": [
      "<sklearn.metrics._plot.confusion_matrix.ConfusionMatrixDisplay object at 0x318f59af0>\n"
     ]
    },
    {
     "data": {
      "image/png": "[encoded data removed]",
      "text/plain": [
       "<Figure size 640x480 with 2 Axes>"
      ]
     },
     "metadata": {},
     "output_type": "display_data"
    }
   ],
   "source": [
    "cnf_matrix_dt= confusion_matrix(y_test,y_dt_pred)\n",
    "cm_display_dt = ConfusionMatrixDisplay(cnf_matrix_dt).plot()\n",
    "print(cm_display_dt)"
   ]
  },
  {
   "cell_type": "markdown",
   "metadata": {},
   "source": [
    "### Random Forest\n",
    "Train and predict the model on test data set"
   ]
  },
  {
   "cell_type": "code",
   "execution_count": 26,
   "metadata": {},
   "outputs": [
    {
     "name": "stderr",
     "output_type": "stream",
     "text": [
      "/Users/kalpanasahu/Library/Python/3.9/lib/python/site-packages/sklearn/base.py:1474: DataConversionWarning: A column-vector y was passed when a 1d array was expected. Please change the shape of y to (n_samples,), for example using ravel().\n",
      "  return fit_method(estimator, *args, **kwargs)\n"
     ]
    }
   ],
   "source": [
    "rf = RandomForestClassifier()\n",
    "rf.fit(X_train,y_train)\n",
    "y_rf_pred = rf.predict(X_test)"
   ]
  },
  {
   "cell_type": "markdown",
   "metadata": {},
   "source": [
    "#### Classification Report for Random Forest on test data"
   ]
  },
  {
   "cell_type": "code",
   "execution_count": 27,
   "metadata": {},
   "outputs": [
    {
     "name": "stdout",
     "output_type": "stream",
     "text": [
      "Random Forest Test data Classification Report: \n",
      "              precision    recall  f1-score   support\n",
      "\n",
      "not stressed       0.98      0.99      0.99      1516\n",
      "    stressed       0.98      0.97      0.97       735\n",
      "\n",
      "    accuracy                           0.98      2251\n",
      "   macro avg       0.98      0.98      0.98      2251\n",
      "weighted avg       0.98      0.98      0.98      2251\n",
      "\n"
     ]
    }
   ],
   "source": [
    "clf_rf = classification_report(y_test,y_rf_pred,target_names = target_names)\n",
    "print(\"Random Forest Test data Classification Report: \")\n",
    "print(clf_rf)"
   ]
  },
  {
   "cell_type": "code",
   "execution_count": 28,
   "metadata": {},
   "outputs": [
    {
     "name": "stdout",
     "output_type": "stream",
     "text": [
      "<sklearn.metrics._plot.confusion_matrix.ConfusionMatrixDisplay object at 0x318ff2820>\n"
     ]
    },
    {
     "data": {
      "image/png": "[encoded data removed]",
      "text/plain": [
       "<Figure size 640x480 with 2 Axes>"
      ]
     },
     "metadata": {},
     "output_type": "display_data"
    }
   ],
   "source": [
    "cnf_matrix_rf= confusion_matrix(y_test,y_rf_pred)\n",
    "cm_display_rf = ConfusionMatrixDisplay(cnf_matrix_rf).plot()\n",
    "print(cm_display_rf)"
   ]
  },
  {
   "cell_type": "markdown",
   "metadata": {},
   "source": [
    "### LogisticRegression"
   ]
  },
  {
   "cell_type": "code",
   "execution_count": 29,
   "metadata": {},
   "outputs": [
    {
     "name": "stderr",
     "output_type": "stream",
     "text": [
      "/Users/kalpanasahu/Library/Python/3.9/lib/python/site-packages/sklearn/utils/validation.py:1300: DataConversionWarning: A column-vector y was passed when a 1d array was expected. Please change the shape of y to (n_samples, ), for example using ravel().\n",
      "  y = column_or_1d(y, warn=True)\n"
     ]
    }
   ],
   "source": [
    "lr = LogisticRegression()\n",
    "lr.fit(X_train,y_train)\n",
    "y_pred_lr = lr.predict(X_test)\n",
    "y_pred_train_lr= lr.predict(X_train)"
   ]
  },
  {
   "cell_type": "markdown",
   "metadata": {},
   "source": [
    "####  Classification Report"
   ]
  },
  {
   "cell_type": "code",
   "execution_count": 30,
   "metadata": {},
   "outputs": [
    {
     "name": "stdout",
     "output_type": "stream",
     "text": [
      "Logistic RegressionClassification Report: \n",
      "              precision    recall  f1-score   support\n",
      "\n",
      "not stressed       0.67      1.00      0.80      1516\n",
      "    stressed       0.00      0.00      0.00       735\n",
      "\n",
      "    accuracy                           0.67      2251\n",
      "   macro avg       0.34      0.50      0.40      2251\n",
      "weighted avg       0.45      0.67      0.54      2251\n",
      "\n"
     ]
    },
    {
     "name": "stderr",
     "output_type": "stream",
     "text": [
      "/Users/kalpanasahu/Library/Python/3.9/lib/python/site-packages/sklearn/metrics/_classification.py:1509: UndefinedMetricWarning: Precision is ill-defined and being set to 0.0 in labels with no predicted samples. Use `zero_division` parameter to control this behavior.\n",
      "  _warn_prf(average, modifier, f\"{metric.capitalize()} is\", len(result))\n",
      "/Users/kalpanasahu/Library/Python/3.9/lib/python/site-packages/sklearn/metrics/_classification.py:1509: UndefinedMetricWarning: Precision is ill-defined and being set to 0.0 in labels with no predicted samples. Use `zero_division` parameter to control this behavior.\n",
      "  _warn_prf(average, modifier, f\"{metric.capitalize()} is\", len(result))\n",
      "/Users/kalpanasahu/Library/Python/3.9/lib/python/site-packages/sklearn/metrics/_classification.py:1509: UndefinedMetricWarning: Precision is ill-defined and being set to 0.0 in labels with no predicted samples. Use `zero_division` parameter to control this behavior.\n",
      "  _warn_prf(average, modifier, f\"{metric.capitalize()} is\", len(result))\n"
     ]
    }
   ],
   "source": [
    "clf_lr = classification_report(y_test,y_pred_lr,target_names= target_names)\n",
    "print(\"Logistic RegressionClassification Report: \")\n",
    "print(clf_lr)"
   ]
  },
  {
   "cell_type": "markdown",
   "metadata": {},
   "source": [
    "### Normalization"
   ]
  },
  {
   "cell_type": "code",
   "execution_count": 34,
   "metadata": {},
   "outputs": [
    {
     "name": "stdout",
     "output_type": "stream",
     "text": [
      "<class 'pandas.core.frame.DataFrame'>\n",
      "RangeIndex: 112516 entries, 0 to 112515\n",
      "Data columns (total 5 columns):\n",
      " #   Column       Non-Null Count   Dtype  \n",
      "---  ------       --------------   -----  \n",
      " 0   Participant  112516 non-null  int64  \n",
      " 1   HR           112516 non-null  float64\n",
      " 2   respr        112516 non-null  float64\n",
      " 3   Time(sec)    112516 non-null  int64  \n",
      " 4   Label        112516 non-null  int64  \n",
      "dtypes: float64(2), int64(3)\n",
      "memory usage: 4.3 MB\n"
     ]
    }
   ],
   "source": [
    "df_norm.info()"
   ]
  },
  {
   "cell_type": "code",
   "execution_count": 32,
   "metadata": {},
   "outputs": [],
   "source": [
    "data_train_norm,data_test_norm= train_test_split(df_norm, test_size=0.02, random_state=42)\n",
    "X_train_norm, y_train_norm, X_test_norm, y_test_norm = data_train_norm[[\"HR\", \"respr\",'Time(sec)']], data_train_norm[\"Label\"], data_test_norm[[\"HR\", \"respr\",'Time(sec)']], data_test_norm[\"Label\"]"
   ]
  },
  {
   "cell_type": "code",
   "execution_count": 35,
   "metadata": {},
   "outputs": [],
   "source": [
    "norm = MinMaxScaler().fit(X_train_norm)\n",
    "X_train_norm_sc = norm.transform(X_train_norm)\n",
    "X_test_norm_sc = norm.transform(X_test_norm)\n",
    "\n",
    "lr_norm = LogisticRegression()\n",
    "lr_norm.fit(X_train_norm_sc,y_train_norm)\n",
    "y_pred_lr_norm = lr_norm.predict(X_test_norm_sc)"
   ]
  },
  {
   "cell_type": "code",
   "execution_count": 36,
   "metadata": {},
   "outputs": [],
   "source": [
    "y_pred_norm_train_lr = lr_norm.predict(X_train_norm_sc)"
   ]
  },
  {
   "cell_type": "markdown",
   "metadata": {},
   "source": [
    "### Classification Report:Logistic Regression with normalization"
   ]
  },
  {
   "cell_type": "code",
   "execution_count": 37,
   "metadata": {},
   "outputs": [
    {
     "name": "stdout",
     "output_type": "stream",
     "text": [
      "Logistic Regression Normalization on test data: \n",
      "              precision    recall  f1-score   support\n",
      "\n",
      "not stressed       0.68      0.99      0.80      1516\n",
      "    stressed       0.60      0.04      0.08       735\n",
      "\n",
      "    accuracy                           0.68      2251\n",
      "   macro avg       0.64      0.51      0.44      2251\n",
      "weighted avg       0.65      0.68      0.57      2251\n",
      "\n"
     ]
    }
   ],
   "source": [
    "clf_lr = classification_report(y_test_norm,y_pred_lr_norm,target_names= target_names)\n",
    "print(\"Logistic Regression Normalization on test data: \")\n",
    "print(clf_lr)"
   ]
  },
  {
   "cell_type": "code",
   "execution_count": 38,
   "metadata": {},
   "outputs": [
    {
     "name": "stdout",
     "output_type": "stream",
     "text": [
      "Logistic Regression\n",
      "<sklearn.metrics._plot.confusion_matrix.ConfusionMatrixDisplay object at 0x3195fc940>\n"
     ]
    },
    {
     "data": {
      "image/png": "[encoded data removed]",
      "text/plain": [
       "<Figure size 640x480 with 2 Axes>"
      ]
     },
     "metadata": {},
     "output_type": "display_data"
    }
   ],
   "source": [
    "cnf_lr_norm= confusion_matrix(y_test_norm,y_pred_lr_norm)\n",
    "cm_display_norm= ConfusionMatrixDisplay(cnf_lr_norm).plot()\n",
    "print(\"Logistic Regression\")\n",
    "print(cm_display_norm)"
   ]
  },
  {
   "cell_type": "markdown",
   "metadata": {},
   "source": [
    "#### Bar graph for Logistic Regression"
   ]
  },
  {
   "cell_type": "code",
   "execution_count": 39,
   "metadata": {},
   "outputs": [
    {
     "name": "stdout",
     "output_type": "stream",
     "text": [
      "Logistic Regression\n"
     ]
    },
    {
     "data": {
      "image/png": "[encoded data removed]",
      "text/plain": [
       "<Figure size 640x480 with 1 Axes>"
      ]
     },
     "metadata": {},
     "output_type": "display_data"
    }
   ],
   "source": [
    "classes = np.unique(np.concatenate((y_test_norm, y_pred_lr_norm)))\n",
    "report = classification_report(y_test_norm, y_pred_lr_norm, target_names=[str(c) for c in classes], output_dict=True)\n",
    "precision = [report[str(c)]['precision'] for c in classes]\n",
    "recall = [report[str(c)]['recall'] for c in classes]\n",
    "f1_score = [report[str(c)]['f1-score'] for c in classes]\n",
    "\n",
    "plt.subplot(1, 1, 1)\n",
    "bar_width = 0.2\n",
    "index = np.arange(len(classes))\n",
    "precision_color = '#ADD8E6'\n",
    "recall_color = '#ffffe0'\n",
    "f1_score_color = '#ffcccb'\n",
    "plt.bar(index, precision, bar_width, label='Precision',color = precision_color)\n",
    "plt.bar(index + bar_width, recall, bar_width, label='Recall')\n",
    "plt.bar(index + 2 * bar_width, f1_score, bar_width, label='F1-Score')\n",
    "\n",
    "plt.xlabel('Classes')\n",
    "plt.ylabel('Score')\n",
    "plt.title('Precision, Recall, and F1-Score for Each Class')\n",
    "plt.xticks(index + bar_width, classes)\n",
    "plt.legend()\n",
    "\n",
    "plt.tight_layout()\n",
    "print(\"Logistic Regression\")\n",
    "plt.show()"
   ]
  }
 ],
 "metadata": {
  "kernelspec": {
   "display_name": "Python 3",
   "language": "python",
   "name": "python3"
  },
  "language_info": {
   "codemirror_mode": {
    "name": "ipython",
    "version": 3
   },
   "file_extension": ".py",
   "mimetype": "text/x-python",
   "name": "python",
   "nbconvert_exporter": "python",
   "pygments_lexer": "ipython3",
   "version": "3.9.6"
  }
 },
 "nbformat": 4,
 "nbformat_minor": 2
}
